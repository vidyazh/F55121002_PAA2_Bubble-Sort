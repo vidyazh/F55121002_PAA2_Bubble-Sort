{
  "nbformat": 4,
  "nbformat_minor": 0,
  "metadata": {
    "colab": {
      "provenance": []
    },
    "kernelspec": {
      "name": "python3",
      "display_name": "Python 3"
    },
    "language_info": {
      "name": "python"
    }
  },
  "cells": [
    {
      "cell_type": "code",
      "execution_count": 1,
      "metadata": {
        "id": "OJz-mfVrD0ak",
        "colab": {
          "base_uri": "https://localhost:8080/"
        },
        "outputId": "ca2cb47b-0499-4b0c-a228-adc1bcc227a9"
      },
      "outputs": [
        {
          "output_type": "stream",
          "name": "stdout",
          "text": [
            "Data before sorting:\n",
            "[4, 5, 2, 8, 10, 13, 18, 9, 12, 6, 2, 1, 7, 15, 11]\n",
            "Sorted data:\n",
            "[1, 2, 2, 4, 5, 6, 7, 8, 9, 10, 11, 12, 13, 15, 18]\n",
            "Execution time (Fast): 6.127357482910156e-05 seconds\n",
            "-------------------------------------------------\n",
            "Data before sorting:\n",
            "[4, 5, 2, 8, 10, 13, 18, 9, 12, 6, 2, 1, 7, 15, 11]\n",
            "Sorted data:\n",
            "[1, 2, 2, 4, 5, 6, 7, 8, 9, 10, 11, 12, 13, 15, 18]\n",
            "Execution time (Slow): 9.467541694641113 seconds\n"
          ]
        }
      ],
      "source": [
        "import time\n",
        "\n",
        "def bubble_sort(arr):\n",
        "    n = len(arr)\n",
        "    for i in range(n):\n",
        "        for j in range(0, n-i-1):\n",
        "            if arr[j] > arr[j+1]:\n",
        "                arr[j], arr[j+1] = arr[j+1], arr[j]\n",
        "\n",
        "# Generate data\n",
        "data = [4, 5, 2, 8, 10, 13, 18, 9, 12, 6, 2, 1, 7, 15, 11]\n",
        "\n",
        "# Print data before sorting\n",
        "print(\"Data before sorting:\")\n",
        "print(data)\n",
        "\n",
        "# Measure execution time\n",
        "start_time = time.time()\n",
        "\n",
        "# Sort the data using Bubble Sort\n",
        "bubble_sort(data)\n",
        "\n",
        "# Calculate execution time\n",
        "execution_time = time.time() - start_time\n",
        "\n",
        "# Print sorted data\n",
        "print(\"Sorted data:\")\n",
        "print(data)\n",
        "\n",
        "# Print execution time\n",
        "print(\"Execution time (Fast):\", execution_time, \"seconds\")\n",
        "\n",
        "print(\"-------------------------------------------------\")\n",
        "\n",
        "def bubble_sort(arr):\n",
        "    n = len(arr)\n",
        "    for i in range(n):\n",
        "        for j in range(0, n-i-1):\n",
        "            if arr[j] > arr[j+1]:\n",
        "                arr[j], arr[j+1] = arr[j+1], arr[j]\n",
        "            time.sleep(0.09)  # Pause for 0.09 seconds on each comparison\n",
        "\n",
        "# Generate data\n",
        "data = [4, 5, 2, 8, 10, 13, 18, 9, 12, 6, 2, 1, 7, 15, 11]\n",
        "\n",
        "# Print data before sorting\n",
        "print(\"Data before sorting:\")\n",
        "print(data)\n",
        "\n",
        "# Measure execution time\n",
        "start_time = time.time()\n",
        "\n",
        "# Sort the data using Bubble Sort (with additional delay)\n",
        "bubble_sort(data)\n",
        "\n",
        "# Calculate execution time\n",
        "execution_time = time.time() - start_time\n",
        "\n",
        "# Print sorted data\n",
        "print(\"Sorted data:\")\n",
        "print(data)\n",
        "\n",
        "# Print execution time\n",
        "print(\"Execution time (Slow):\", execution_time, \"seconds\")\n"
      ]
    }
  ]
}